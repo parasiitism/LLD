{
 "cells": [
  {
   "cell_type": "code",
   "execution_count": null,
   "id": "4eb4c20d",
   "metadata": {},
   "outputs": [],
   "source": [
    "class PaymentProcessor:\n",
    "    def process_credit_card_payment(self,amount):\n",
    "        print(f\"Processing credit card payment of ${amount}\")\n",
    "        # Complex logic for credit card processing\n",
    "        pass"
   ]
  },
  {
   "cell_type": "code",
   "execution_count": null,
   "id": "73212ce5",
   "metadata": {},
   "outputs": [],
   "source": [
    "class CheckoutService:\n",
    "    def process_payment(self,payment_type):\n",
    "        processor=PaymentProcessor\n",
    "        processor.process_credit_card_payment(100.00)"
   ]
  },
  {
   "cell_type": "code",
   "execution_count": null,
   "id": "63593e81",
   "metadata": {},
   "outputs": [],
   "source": [
    "'''\n",
    "Suppose your client comes along and says: \n",
    "\"Hey, we need to PayPal payment too\"\n",
    "'''\n",
    "\n",
    "class PaymentProcessor:\n",
    "    def process_credit_card_payment(self, amount):\n",
    "        print(f\"Processing credit card payment of ${amount}\")\n",
    "        # Complex logic for credit card processing\n",
    "\n",
    "    def process_paypal_payment(self, amount):\n",
    "        print(f\"Processing PayPal payment of ${amount}\")\n",
    "        # Logic for PayPal processing\n"
   ]
  },
  {
   "cell_type": "code",
   "execution_count": null,
   "id": "c3dd1d66",
   "metadata": {},
   "outputs": [],
   "source": [
    "class CheckoutService:\n",
    "    def process_payment(self, payment_type):\n",
    "        processor = PaymentProcessor()\n",
    "\n",
    "        if payment_type == \"CreditCard\":\n",
    "            processor.process_credit_card_payment(100.00)\n",
    "        elif payment_type == \"PayPal\":\n",
    "            processor.process_paypal_payment(100.00)"
   ]
  },
  {
   "cell_type": "code",
   "execution_count": null,
   "id": "d52fb8c2",
   "metadata": {},
   "outputs": [],
   "source": [
    "# Introducing the Open-Closed Principle\n",
    "# OCP\n",
    "\n",
    "'''\n",
    "Software entities(classes,modules,functions,etc)\n",
    "should be open for extension, but closed\n",
    "for modification.\n",
    "'''\n",
    "\n",
    "'''\n",
    "Why does OCP matter?\n",
    "1:Improved Maintainability\n",
    "2: Enhanced Scalability\n",
    "3: Reduced Risk\n",
    "4: Better Testability\n",
    "'''\n",
    "\n",
    "\n",
    "'''\n",
    "Implementing OCP\n",
    "1: Define PaymentMethod(interface that defines a \n",
    "contract for all payment types)\n",
    "'''\n",
    "\n",
    "'''\n",
    "We define a contract for all payment types\n",
    "'''\n",
    "\n",
    "\n"
   ]
  },
  {
   "cell_type": "code",
   "execution_count": null,
   "id": "7f9c4f31",
   "metadata": {},
   "outputs": [],
   "source": [
    "from abc import ABC,abstractmethod\n",
    "class PaymentMethod(ABC):\n",
    "    @abstractmethod\n",
    "    def process_payment(self,amount);\n",
    "        pass \n",
    "\n",
    "# Step 2: Implementing Concrete Strategies\n",
    "\n",
    "class CreditCardPayment(PaymentMethod):\n",
    "    def process_payment(self, amount):\n",
    "        print(f\"Processing credit card payment of ${amount}\")\n",
    "        # Complex logic for credit card processing\n",
    "\n",
    "class PayPalPayment(PaymentMethod):\n",
    "    def process_payment(self, amount):\n",
    "        print(f\"Processing PayPal payment of ${amount}\")\n",
    "        # Logic for PayPal processing\n",
    "\n",
    "class UPIPayment(PaymentMethod):\n",
    "    def process_payment(self, amount):\n",
    "        print(f\"Processing UPI payment of ₹{amount * 80}\")  # Assuming conversion rate\n",
    "        # Logic for UPI processing\n",
    "\n",
    "class PaymentProcessor:\n",
    "    def process(self,payment_method:PaymentMethod,amount):\n",
    "        payment_method.process_payment(amount=amount)\n",
    "\n",
    "class CheckoutService:\n",
    "    def process_payment(self,method:PaymentMethod,amount):\n",
    "        processor=PaymentProcessor()\n",
    "        processor.process(method,amount=amount)\n",
    "    \n",
    "checkout=CheckoutService()\n",
    "checkout.process_payment(CreditCardPayment(),120.00)\n",
    "checkout.process_payment(CreditCardPayment(),340.45)\n",
    "checkout.process_payment(PayPalPayment(),3430.08)\n",
    "    \n"
   ]
  }
 ],
 "metadata": {
  "kernelspec": {
   "display_name": "url_shortening (3.13.7)",
   "language": "python",
   "name": "python3"
  },
  "language_info": {
   "name": "python",
   "version": "3.13.7"
  }
 },
 "nbformat": 4,
 "nbformat_minor": 5
}
