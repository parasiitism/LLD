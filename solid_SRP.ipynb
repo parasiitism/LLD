{
 "cells": [
  {
   "cell_type": "code",
   "execution_count": null,
   "id": "8f819787",
   "metadata": {},
   "outputs": [],
   "source": [
    "'''\n",
    "There are four distinct responsibilities rolled by\n",
    "this class. So It is not SRP\n",
    "'''\n",
    "class Employee:\n",
    "    def __init__(self,name:str,email:str,salary:float):\n",
    "        self._name=name \n",
    "        self._email=email\n",
    "        self._salary=salary\n",
    "    \n",
    "    def calculate_salary(self):\n",
    "        pass \n",
    "    def save_to_database(self):\n",
    "        pass\n",
    "    def generate_payslip(self):\n",
    "        pass\n",
    "    def send_payslip_email(self):\n",
    "        pass \n"
   ]
  }
 ],
 "metadata": {
  "kernelspec": {
   "display_name": "url_shortening (3.13.7)",
   "language": "python",
   "name": "python3"
  },
  "language_info": {
   "name": "python",
   "version": "3.13.7"
  }
 },
 "nbformat": 4,
 "nbformat_minor": 5
}
